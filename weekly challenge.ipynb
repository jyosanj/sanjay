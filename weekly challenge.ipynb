{
 "cells": [
  {
   "cell_type": "code",
   "execution_count": 3,
   "id": "d28c5013",
   "metadata": {},
   "outputs": [
    {
     "name": "stdout",
     "output_type": "stream",
     "text": [
      "enter a radius value: 233\n",
      "enter a height value: 3433\n",
      "volume of cylinder is  585214790.1800001\n"
     ]
    }
   ],
   "source": [
    "#weekly challange 1\n",
    "#write a python program that calculates the volume of cylinder using the input method.\n",
    "\n",
    "pi=3.14\n",
    "r=float(input(\"enter a radius value: \"))\n",
    "h=float(input(\"enter a height value: \"))\n",
    "volume_of_cylinder=(pi*r**2*h)\n",
    "print(\"volume of cylinder is \",volume_of_cylinder)"
   ]
  },
  {
   "cell_type": "code",
   "execution_count": 6,
   "id": "d0170360",
   "metadata": {},
   "outputs": [
    {
     "name": "stdout",
     "output_type": "stream",
     "text": [
      "enter a length value: 213\n",
      "enter a height value: 54543\n",
      "Your result is  11617659.0\n"
     ]
    }
   ],
   "source": [
    "#write a python program that calculate the area of a rectangle using the input method.\n",
    "l=float(input(\"enter a length value: \"))\n",
    "h=float(input(\"enter a height value: \"))\n",
    "area_of_rectangle=(l*h)\n",
    "print(\"Your result is \",area_of_rectangle)"
   ]
  },
  {
   "cell_type": "code",
   "execution_count": null,
   "id": "530e7ff0",
   "metadata": {},
   "outputs": [],
   "source": []
  }
 ],
 "metadata": {
  "kernelspec": {
   "display_name": "Python 3 (ipykernel)",
   "language": "python",
   "name": "python3"
  },
  "language_info": {
   "codemirror_mode": {
    "name": "ipython",
    "version": 3
   },
   "file_extension": ".py",
   "mimetype": "text/x-python",
   "name": "python",
   "nbconvert_exporter": "python",
   "pygments_lexer": "ipython3",
   "version": "3.10.9"
  }
 },
 "nbformat": 4,
 "nbformat_minor": 5
}
