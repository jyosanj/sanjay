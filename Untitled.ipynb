{
 "cells": [
  {
   "cell_type": "code",
   "execution_count": null,
   "id": "7730d5e8",
   "metadata": {},
   "outputs": [],
   "source": [
    "#weekly challange 1\n",
    "#write a python program that calculates the volume of cylinder using the input method.\n",
    "pi=3.14\n",
    "r=float(input(\"enter a radius value: \"))\n",
    "h=float(input(\"enter a height value: \"))\n",
    "volume_of_cylinder=(pi*r**2h)\n",
    "print(\"volume of cylinderis\",volume_of_cylinder)"
   ]
  },
  {
   "cell_type": "code",
   "execution_count": 4,
   "id": "6c2eb998",
   "metadata": {},
   "outputs": [
    {
     "data": {
      "text/plain": [
       "124.0"
      ]
     },
     "execution_count": 4,
     "metadata": {},
     "output_type": "execute_result"
    }
   ],
   "source": [
    "r"
   ]
  },
  {
   "cell_type": "code",
   "execution_count": null,
   "id": "8044db02",
   "metadata": {},
   "outputs": [],
   "source": [
    "pi=3.14\n",
    "r=float(input(\"enter a radius value: \"))\n",
    "h=float(input(\"enter a height value: \"))\n",
    "volume_of_cylinder=(pi*r**2*h)\n",
    "print(\"volume of cylinder is \",volume_of_cylinder)"
   ]
  },
  {
   "cell_type": "code",
   "execution_count": null,
   "id": "3c3fe10e",
   "metadata": {},
   "outputs": [],
   "source": []
  }
 ],
 "metadata": {
  "kernelspec": {
   "display_name": "Python 3 (ipykernel)",
   "language": "python",
   "name": "python3"
  },
  "language_info": {
   "codemirror_mode": {
    "name": "ipython",
    "version": 3
   },
   "file_extension": ".py",
   "mimetype": "text/x-python",
   "name": "python",
   "nbconvert_exporter": "python",
   "pygments_lexer": "ipython3",
   "version": "3.10.9"
  }
 },
 "nbformat": 4,
 "nbformat_minor": 5
}
