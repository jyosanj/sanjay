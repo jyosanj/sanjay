{
 "cells": [
  {
   "cell_type": "code",
   "execution_count": 3,
   "id": "b7a3cad1",
   "metadata": {},
   "outputs": [
    {
     "name": "stdout",
     "output_type": "stream",
     "text": [
      "7.5\n",
      "-1.5\n",
      "0.6666666666666666\n",
      "3.0\n",
      "13.5\n"
     ]
    }
   ],
   "source": [
    "a=3\n",
    "b=4.5\n",
    "print(a+b)\n",
    "print(a-b)\n",
    "print(a/b)\n",
    "print(a%b)\n",
    "print(a*b)"
   ]
  },
  {
   "cell_type": "code",
   "execution_count": 4,
   "id": "b470a9b9",
   "metadata": {},
   "outputs": [
    {
     "name": "stdout",
     "output_type": "stream",
     "text": [
      "\n"
     ]
    }
   ],
   "source": [
    "str1=\"sanjay\"+str(45)\n",
    "print()"
   ]
  },
  {
   "cell_type": "code",
   "execution_count": 5,
   "id": "c1cc974e",
   "metadata": {},
   "outputs": [
    {
     "name": "stdout",
     "output_type": "stream",
     "text": [
      "sanjay45\n"
     ]
    }
   ],
   "source": [
    "str1=\"sanjay\"+ \"45\"\n",
    "print(str1)"
   ]
  },
  {
   "cell_type": "code",
   "execution_count": 6,
   "id": "8f0d32de",
   "metadata": {},
   "outputs": [
    {
     "name": "stdout",
     "output_type": "stream",
     "text": [
      "area of rectangle=200\n"
     ]
    }
   ],
   "source": [
    "height= 10\n",
    "width= 20\n",
    "area= height*width\n",
    "print(\"area of rectangle=\"+str(area))"
   ]
  },
  {
   "cell_type": "code",
   "execution_count": null,
   "id": "771d7fc9",
   "metadata": {},
   "outputs": [],
   "source": []
  }
 ],
 "metadata": {
  "kernelspec": {
   "display_name": "Python 3 (ipykernel)",
   "language": "python",
   "name": "python3"
  },
  "language_info": {
   "codemirror_mode": {
    "name": "ipython",
    "version": 3
   },
   "file_extension": ".py",
   "mimetype": "text/x-python",
   "name": "python",
   "nbconvert_exporter": "python",
   "pygments_lexer": "ipython3",
   "version": "3.10.9"
  }
 },
 "nbformat": 4,
 "nbformat_minor": 5
}
