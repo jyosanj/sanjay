{
 "cells": [
  {
   "cell_type": "code",
   "execution_count": 3,
   "id": "5699528d",
   "metadata": {},
   "outputs": [
    {
     "name": "stdout",
     "output_type": "stream",
     "text": [
      "13.0\n"
     ]
    }
   ],
   "source": [
    "#Create variables of different data types (integer, float, string, and boolean) and perform various arithmetic operations on them.\n",
    "a=12\n",
    "b=34.0\n",
    "c=\"44\"\n",
    "d=True\n",
    "E=False\n",
    "f=a+b//b\n",
    "print(f)\n"
   ]
  },
  {
   "cell_type": "code",
   "execution_count": 17,
   "id": "cdca4a28",
   "metadata": {},
   "outputs": [
    {
     "data": {
      "text/plain": [
       "'is'"
      ]
     },
     "execution_count": 17,
     "metadata": {},
     "output_type": "execute_result"
    }
   ],
   "source": [
    "#.Given a string s = \"Programming is fun!\", extract the word \"is\" using slicing.\n",
    "s=\"Programming is fun!\"\n",
    "s[12:14]\n",
    "#[start:stop:step]\n",
    " #[0:1:-1]"
   ]
  },
  {
   "cell_type": "code",
   "execution_count": 22,
   "id": "135385a5",
   "metadata": {},
   "outputs": [
    {
     "name": "stdout",
     "output_type": "stream",
     "text": [
      "782\n"
     ]
    }
   ],
   "source": [
    "#.Calculate the area of a rectangle with length l and width w using the multiplication operator.\n",
    "l=23\n",
    "w=34\n",
    "x=l*w\n",
    "print(x)\n"
   ]
  },
  {
   "cell_type": "code",
   "execution_count": 23,
   "id": "ed91d9e5",
   "metadata": {},
   "outputs": [
    {
     "name": "stdout",
     "output_type": "stream",
     "text": [
      "797 233\n",
      "131412 0\n"
     ]
    }
   ],
   "source": [
    "#Given two numbers x and y, calculate their sum, difference, product, and quotient using arithmetic operators.\n",
    "x=233\n",
    "y=564\n",
    "add = x+y\n",
    "difference=x%y\n",
    "product=x*y\n",
    "quotient=x//y\n",
    "print(add,difference)\n",
    "print(product,quotient)"
   ]
  },
  {
   "cell_type": "code",
   "execution_count": null,
   "id": "44b0acb7",
   "metadata": {},
   "outputs": [],
   "source": []
  }
 ],
 "metadata": {
  "kernelspec": {
   "display_name": "Python 3 (ipykernel)",
   "language": "python",
   "name": "python3"
  },
  "language_info": {
   "codemirror_mode": {
    "name": "ipython",
    "version": 3
   },
   "file_extension": ".py",
   "mimetype": "text/x-python",
   "name": "python",
   "nbconvert_exporter": "python",
   "pygments_lexer": "ipython3",
   "version": "3.10.9"
  }
 },
 "nbformat": 4,
 "nbformat_minor": 5
}
